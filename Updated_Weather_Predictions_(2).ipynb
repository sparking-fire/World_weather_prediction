{
 "cells": [
  {
   "cell_type": "code",
   "execution_count": 1,
   "id": "38d57182",
   "metadata": {
    "id": "38d57182"
   },
   "outputs": [],
   "source": [
    "# Import libraries\n",
    "import pandas as pd\n",
    "from sklearn.model_selection import train_test_split\n",
    "from sklearn.ensemble import RandomForestRegressor, RandomForestClassifier\n",
    "from sklearn.preprocessing import LabelEncoder\n",
    "from sklearn.metrics import mean_squared_error, accuracy_score\n",
    "import joblib\n",
    "import numpy as np\n"
   ]
  },
  {
   "cell_type": "code",
   "execution_count": 2,
   "id": "5582a18a",
   "metadata": {
    "colab": {
     "base_uri": "https://localhost:8080/",
     "height": 547
    },
    "id": "5582a18a",
    "outputId": "3c6c726a-9537-4b66-b873-bcf10718e80e"
   },
   "outputs": [
    {
     "data": {
      "text/html": [
       "<div>\n",
       "<style scoped>\n",
       "    .dataframe tbody tr th:only-of-type {\n",
       "        vertical-align: middle;\n",
       "    }\n",
       "\n",
       "    .dataframe tbody tr th {\n",
       "        vertical-align: top;\n",
       "    }\n",
       "\n",
       "    .dataframe thead th {\n",
       "        text-align: right;\n",
       "    }\n",
       "</style>\n",
       "<table border=\"1\" class=\"dataframe\">\n",
       "  <thead>\n",
       "    <tr style=\"text-align: right;\">\n",
       "      <th></th>\n",
       "      <th>City</th>\n",
       "      <th>Temperature (Celsius)</th>\n",
       "      <th>Wind Speed (m/s)</th>\n",
       "      <th>Latitude</th>\n",
       "      <th>Longitude</th>\n",
       "      <th>Description</th>\n",
       "      <th>Country</th>\n",
       "    </tr>\n",
       "  </thead>\n",
       "  <tbody>\n",
       "    <tr>\n",
       "      <th>0</th>\n",
       "      <td>Paris</td>\n",
       "      <td>10.46</td>\n",
       "      <td>2.06</td>\n",
       "      <td>48.8534</td>\n",
       "      <td>2.3488</td>\n",
       "      <td>clear sky</td>\n",
       "      <td>France</td>\n",
       "    </tr>\n",
       "    <tr>\n",
       "      <th>1</th>\n",
       "      <td>Dubai</td>\n",
       "      <td>29.32</td>\n",
       "      <td>3.09</td>\n",
       "      <td>25.2582</td>\n",
       "      <td>55.3047</td>\n",
       "      <td>clear sky</td>\n",
       "      <td>United Arab Emirates</td>\n",
       "    </tr>\n",
       "    <tr>\n",
       "      <th>2</th>\n",
       "      <td>Madrid</td>\n",
       "      <td>9.97</td>\n",
       "      <td>3.60</td>\n",
       "      <td>40.4165</td>\n",
       "      <td>-3.7026</td>\n",
       "      <td>clear sky</td>\n",
       "      <td>Spain</td>\n",
       "    </tr>\n",
       "    <tr>\n",
       "      <th>3</th>\n",
       "      <td>Tokyo</td>\n",
       "      <td>21.58</td>\n",
       "      <td>2.06</td>\n",
       "      <td>35.6895</td>\n",
       "      <td>139.6917</td>\n",
       "      <td>broken clouds</td>\n",
       "      <td>Japan</td>\n",
       "    </tr>\n",
       "    <tr>\n",
       "      <th>4</th>\n",
       "      <td>Amsterdam</td>\n",
       "      <td>8.00</td>\n",
       "      <td>3.58</td>\n",
       "      <td>52.3740</td>\n",
       "      <td>4.8897</td>\n",
       "      <td>clear sky</td>\n",
       "      <td>Netherlands</td>\n",
       "    </tr>\n",
       "    <tr>\n",
       "      <th>...</th>\n",
       "      <td>...</td>\n",
       "      <td>...</td>\n",
       "      <td>...</td>\n",
       "      <td>...</td>\n",
       "      <td>...</td>\n",
       "      <td>...</td>\n",
       "      <td>...</td>\n",
       "    </tr>\n",
       "    <tr>\n",
       "      <th>95</th>\n",
       "      <td>Punta Cana</td>\n",
       "      <td>26.87</td>\n",
       "      <td>6.69</td>\n",
       "      <td>18.5818</td>\n",
       "      <td>-68.4043</td>\n",
       "      <td>few clouds</td>\n",
       "      <td>Dominican Republic</td>\n",
       "    </tr>\n",
       "    <tr>\n",
       "      <th>96</th>\n",
       "      <td>Guilin</td>\n",
       "      <td>24.06</td>\n",
       "      <td>0.97</td>\n",
       "      <td>25.2819</td>\n",
       "      <td>110.2864</td>\n",
       "      <td>clear sky</td>\n",
       "      <td>China</td>\n",
       "    </tr>\n",
       "    <tr>\n",
       "      <th>97</th>\n",
       "      <td>Hanoi</td>\n",
       "      <td>28.00</td>\n",
       "      <td>2.49</td>\n",
       "      <td>21.0245</td>\n",
       "      <td>105.8412</td>\n",
       "      <td>clear sky</td>\n",
       "      <td>Vietnam</td>\n",
       "    </tr>\n",
       "    <tr>\n",
       "      <th>98</th>\n",
       "      <td>Cairo</td>\n",
       "      <td>19.42</td>\n",
       "      <td>4.63</td>\n",
       "      <td>30.0626</td>\n",
       "      <td>31.2497</td>\n",
       "      <td>clear sky</td>\n",
       "      <td>Egypt</td>\n",
       "    </tr>\n",
       "    <tr>\n",
       "      <th>99</th>\n",
       "      <td>Muscat</td>\n",
       "      <td>28.01</td>\n",
       "      <td>2.76</td>\n",
       "      <td>23.6139</td>\n",
       "      <td>58.5922</td>\n",
       "      <td>broken clouds</td>\n",
       "      <td>Oman</td>\n",
       "    </tr>\n",
       "  </tbody>\n",
       "</table>\n",
       "<p>100 rows × 7 columns</p>\n",
       "</div>"
      ],
      "text/plain": [
       "          City  Temperature (Celsius)  Wind Speed (m/s)  Latitude  Longitude  \\\n",
       "0        Paris                  10.46              2.06   48.8534     2.3488   \n",
       "1        Dubai                  29.32              3.09   25.2582    55.3047   \n",
       "2       Madrid                   9.97              3.60   40.4165    -3.7026   \n",
       "3        Tokyo                  21.58              2.06   35.6895   139.6917   \n",
       "4    Amsterdam                   8.00              3.58   52.3740     4.8897   \n",
       "..         ...                    ...               ...       ...        ...   \n",
       "95  Punta Cana                  26.87              6.69   18.5818   -68.4043   \n",
       "96      Guilin                  24.06              0.97   25.2819   110.2864   \n",
       "97       Hanoi                  28.00              2.49   21.0245   105.8412   \n",
       "98       Cairo                  19.42              4.63   30.0626    31.2497   \n",
       "99      Muscat                  28.01              2.76   23.6139    58.5922   \n",
       "\n",
       "      Description               Country  \n",
       "0       clear sky                France  \n",
       "1       clear sky  United Arab Emirates  \n",
       "2       clear sky                 Spain  \n",
       "3   broken clouds                 Japan  \n",
       "4       clear sky           Netherlands  \n",
       "..            ...                   ...  \n",
       "95     few clouds    Dominican Republic  \n",
       "96      clear sky                 China  \n",
       "97      clear sky               Vietnam  \n",
       "98      clear sky                 Egypt  \n",
       "99  broken clouds                  Oman  \n",
       "\n",
       "[100 rows x 7 columns]"
      ]
     },
     "execution_count": 2,
     "metadata": {},
     "output_type": "execute_result"
    }
   ],
   "source": [
    "import pandas as pd\n",
    "# Load dataset\n",
    "df = pd.read_csv('top100cities_weather_data.csv')\n",
    "df"
   ]
  },
  {
   "cell_type": "code",
   "execution_count": 3,
   "id": "e1eeb90c",
   "metadata": {
    "colab": {
     "base_uri": "https://localhost:8080/"
    },
    "id": "e1eeb90c",
    "outputId": "d505b4a7-f5f3-4f28-af8f-5cc6608bb9dc"
   },
   "outputs": [
    {
     "name": "stdout",
     "output_type": "stream",
     "text": [
      "<class 'pandas.core.frame.DataFrame'>\n",
      "RangeIndex: 100 entries, 0 to 99\n",
      "Data columns (total 7 columns):\n",
      " #   Column                 Non-Null Count  Dtype  \n",
      "---  ------                 --------------  -----  \n",
      " 0   City                   100 non-null    object \n",
      " 1   Temperature (Celsius)  100 non-null    float64\n",
      " 2   Wind Speed (m/s)       100 non-null    float64\n",
      " 3   Latitude               100 non-null    float64\n",
      " 4   Longitude              100 non-null    float64\n",
      " 5   Description            100 non-null    object \n",
      " 6   Country                100 non-null    object \n",
      "dtypes: float64(4), object(3)\n",
      "memory usage: 5.6+ KB\n"
     ]
    }
   ],
   "source": [
    "df.info()"
   ]
  },
  {
   "cell_type": "code",
   "execution_count": 4,
   "id": "46ccf0e1",
   "metadata": {
    "colab": {
     "base_uri": "https://localhost:8080/",
     "height": 303
    },
    "id": "46ccf0e1",
    "outputId": "47687851-f411-4297-f63d-a3a949a53426"
   },
   "outputs": [
    {
     "data": {
      "text/plain": [
       "City                     0\n",
       "Temperature (Celsius)    0\n",
       "Wind Speed (m/s)         0\n",
       "Latitude                 0\n",
       "Longitude                0\n",
       "Description              0\n",
       "Country                  0\n",
       "dtype: int64"
      ]
     },
     "execution_count": 4,
     "metadata": {},
     "output_type": "execute_result"
    }
   ],
   "source": [
    "df.isnull().sum()"
   ]
  },
  {
   "cell_type": "code",
   "execution_count": 5,
   "id": "af1da043",
   "metadata": {
    "colab": {
     "base_uri": "https://localhost:8080/",
     "height": 466
    },
    "id": "af1da043",
    "outputId": "080d35b4-6e2d-48e9-89b7-403313bb590d"
   },
   "outputs": [
    {
     "data": {
      "text/html": [
       "<div>\n",
       "<style scoped>\n",
       "    .dataframe tbody tr th:only-of-type {\n",
       "        vertical-align: middle;\n",
       "    }\n",
       "\n",
       "    .dataframe tbody tr th {\n",
       "        vertical-align: top;\n",
       "    }\n",
       "\n",
       "    .dataframe thead th {\n",
       "        text-align: right;\n",
       "    }\n",
       "</style>\n",
       "<table border=\"1\" class=\"dataframe\">\n",
       "  <thead>\n",
       "    <tr style=\"text-align: right;\">\n",
       "      <th></th>\n",
       "      <th>City</th>\n",
       "      <th>Temperature (Celsius)</th>\n",
       "      <th>Wind Speed (m/s)</th>\n",
       "      <th>Latitude</th>\n",
       "      <th>Longitude</th>\n",
       "      <th>Description</th>\n",
       "      <th>Country</th>\n",
       "    </tr>\n",
       "  </thead>\n",
       "  <tbody>\n",
       "    <tr>\n",
       "      <th>count</th>\n",
       "      <td>100</td>\n",
       "      <td>100.000000</td>\n",
       "      <td>100.00000</td>\n",
       "      <td>100.000000</td>\n",
       "      <td>100.000000</td>\n",
       "      <td>100</td>\n",
       "      <td>100</td>\n",
       "    </tr>\n",
       "    <tr>\n",
       "      <th>unique</th>\n",
       "      <td>100</td>\n",
       "      <td>NaN</td>\n",
       "      <td>NaN</td>\n",
       "      <td>NaN</td>\n",
       "      <td>NaN</td>\n",
       "      <td>13</td>\n",
       "      <td>47</td>\n",
       "    </tr>\n",
       "    <tr>\n",
       "      <th>top</th>\n",
       "      <td>Paris</td>\n",
       "      <td>NaN</td>\n",
       "      <td>NaN</td>\n",
       "      <td>NaN</td>\n",
       "      <td>NaN</td>\n",
       "      <td>clear sky</td>\n",
       "      <td>United States</td>\n",
       "    </tr>\n",
       "    <tr>\n",
       "      <th>freq</th>\n",
       "      <td>1</td>\n",
       "      <td>NaN</td>\n",
       "      <td>NaN</td>\n",
       "      <td>NaN</td>\n",
       "      <td>NaN</td>\n",
       "      <td>40</td>\n",
       "      <td>9</td>\n",
       "    </tr>\n",
       "    <tr>\n",
       "      <th>mean</th>\n",
       "      <td>NaN</td>\n",
       "      <td>18.861700</td>\n",
       "      <td>3.59920</td>\n",
       "      <td>31.249418</td>\n",
       "      <td>18.550782</td>\n",
       "      <td>NaN</td>\n",
       "      <td>NaN</td>\n",
       "    </tr>\n",
       "    <tr>\n",
       "      <th>std</th>\n",
       "      <td>NaN</td>\n",
       "      <td>7.017078</td>\n",
       "      <td>2.66491</td>\n",
       "      <td>19.451234</td>\n",
       "      <td>75.876596</td>\n",
       "      <td>NaN</td>\n",
       "      <td>NaN</td>\n",
       "    </tr>\n",
       "    <tr>\n",
       "      <th>min</th>\n",
       "      <td>NaN</td>\n",
       "      <td>5.290000</td>\n",
       "      <td>0.45000</td>\n",
       "      <td>-34.613200</td>\n",
       "      <td>-157.858300</td>\n",
       "      <td>NaN</td>\n",
       "      <td>NaN</td>\n",
       "    </tr>\n",
       "    <tr>\n",
       "      <th>25%</th>\n",
       "      <td>NaN</td>\n",
       "      <td>13.825000</td>\n",
       "      <td>1.54000</td>\n",
       "      <td>23.489600</td>\n",
       "      <td>-8.741575</td>\n",
       "      <td>NaN</td>\n",
       "      <td>NaN</td>\n",
       "    </tr>\n",
       "    <tr>\n",
       "      <th>50%</th>\n",
       "      <td>NaN</td>\n",
       "      <td>18.005000</td>\n",
       "      <td>2.92500</td>\n",
       "      <td>35.173650</td>\n",
       "      <td>18.552400</td>\n",
       "      <td>NaN</td>\n",
       "      <td>NaN</td>\n",
       "    </tr>\n",
       "    <tr>\n",
       "      <th>75%</th>\n",
       "      <td>NaN</td>\n",
       "      <td>26.120000</td>\n",
       "      <td>4.63000</td>\n",
       "      <td>43.825025</td>\n",
       "      <td>74.154525</td>\n",
       "      <td>NaN</td>\n",
       "      <td>NaN</td>\n",
       "    </tr>\n",
       "    <tr>\n",
       "      <th>max</th>\n",
       "      <td>NaN</td>\n",
       "      <td>32.350000</td>\n",
       "      <td>14.75000</td>\n",
       "      <td>59.437000</td>\n",
       "      <td>151.207300</td>\n",
       "      <td>NaN</td>\n",
       "      <td>NaN</td>\n",
       "    </tr>\n",
       "  </tbody>\n",
       "</table>\n",
       "</div>"
      ],
      "text/plain": [
       "         City  Temperature (Celsius)  Wind Speed (m/s)    Latitude  \\\n",
       "count     100             100.000000         100.00000  100.000000   \n",
       "unique    100                    NaN               NaN         NaN   \n",
       "top     Paris                    NaN               NaN         NaN   \n",
       "freq        1                    NaN               NaN         NaN   \n",
       "mean      NaN              18.861700           3.59920   31.249418   \n",
       "std       NaN               7.017078           2.66491   19.451234   \n",
       "min       NaN               5.290000           0.45000  -34.613200   \n",
       "25%       NaN              13.825000           1.54000   23.489600   \n",
       "50%       NaN              18.005000           2.92500   35.173650   \n",
       "75%       NaN              26.120000           4.63000   43.825025   \n",
       "max       NaN              32.350000          14.75000   59.437000   \n",
       "\n",
       "         Longitude Description        Country  \n",
       "count   100.000000         100            100  \n",
       "unique         NaN          13             47  \n",
       "top            NaN   clear sky  United States  \n",
       "freq           NaN          40              9  \n",
       "mean     18.550782         NaN            NaN  \n",
       "std      75.876596         NaN            NaN  \n",
       "min    -157.858300         NaN            NaN  \n",
       "25%      -8.741575         NaN            NaN  \n",
       "50%      18.552400         NaN            NaN  \n",
       "75%      74.154525         NaN            NaN  \n",
       "max     151.207300         NaN            NaN  "
      ]
     },
     "execution_count": 5,
     "metadata": {},
     "output_type": "execute_result"
    }
   ],
   "source": [
    "df.describe(include='all')\n"
   ]
  },
  {
   "cell_type": "code",
   "execution_count": 6,
   "id": "cdf15c84",
   "metadata": {
    "id": "cdf15c84"
   },
   "outputs": [],
   "source": [
    "# Check and droping missing values (if any)\n",
    "df.dropna(inplace=True)\n"
   ]
  },
  {
   "cell_type": "code",
   "execution_count": 7,
   "id": "2abfc480",
   "metadata": {
    "id": "2abfc480"
   },
   "outputs": [],
   "source": [
    "# Label encoding\n",
    "le_city = LabelEncoder()\n",
    "le_country = LabelEncoder()\n",
    "le_weather = LabelEncoder()\n"
   ]
  },
  {
   "cell_type": "code",
   "execution_count": 8,
   "id": "kn3SoF20tDBI",
   "metadata": {
    "id": "kn3SoF20tDBI"
   },
   "outputs": [],
   "source": [
    "df['City_encoded'] = le_city.fit_transform(df['City'])\n",
    "df['Country_encoded'] = le_country.fit_transform(df['Country'])\n",
    "df['Weather_encoded'] = le_weather.fit_transform(df['Description'])"
   ]
  },
  {
   "cell_type": "code",
   "execution_count": 9,
   "id": "e5dab0f3",
   "metadata": {
    "id": "e5dab0f3"
   },
   "outputs": [],
   "source": [
    "# Features: Include Lat, Long, Encoded City & Country\n",
    "X = df[['City_encoded', 'Country_encoded', 'Latitude', 'Longitude']]\n",
    "y_temp = df['Temperature (Celsius)']\n",
    "y_wind = df['Wind Speed (m/s)']\n",
    "y_weather = df['Weather_encoded']"
   ]
  },
  {
   "cell_type": "code",
   "execution_count": 10,
   "id": "11f6ff8c",
   "metadata": {
    "id": "11f6ff8c"
   },
   "outputs": [],
   "source": [
    "# Splitting\n",
    "X_train_reg, X_test_reg, y_train_temp, y_test_temp, y_train_wind, y_test_wind = train_test_split(\n",
    "    X, y_temp, y_wind, test_size=0.2, random_state=42)\n",
    "\n",
    "X_train_cls, X_test_cls, y_train_cls, y_test_cls = train_test_split(\n",
    "    X, y_weather, test_size=0.2, random_state=42)\n",
    "\n"
   ]
  },
  {
   "cell_type": "code",
   "execution_count": 11,
   "id": "93f579e1",
   "metadata": {
    "id": "93f579e1"
   },
   "outputs": [],
   "source": [
    "# Models with slightly better tuned parameters\n",
    "temp_model = RandomForestRegressor(n_estimators=200, max_depth=None, random_state=42)\n",
    "wind_model = RandomForestRegressor(n_estimators=200, max_depth=None, random_state=42)\n",
    "weather_model = RandomForestClassifier(n_estimators=200, max_depth=None, random_state=42)"
   ]
  },
  {
   "cell_type": "code",
   "execution_count": 12,
   "id": "bf4e8d0b",
   "metadata": {
    "colab": {
     "base_uri": "https://localhost:8080/",
     "height": 80
    },
    "id": "bf4e8d0b",
    "outputId": "53401b6e-d78b-42cd-d59d-59ef99e2b556"
   },
   "outputs": [
    {
     "data": {
      "text/html": [
       "<style>#sk-container-id-1 {color: black;}#sk-container-id-1 pre{padding: 0;}#sk-container-id-1 div.sk-toggleable {background-color: white;}#sk-container-id-1 label.sk-toggleable__label {cursor: pointer;display: block;width: 100%;margin-bottom: 0;padding: 0.3em;box-sizing: border-box;text-align: center;}#sk-container-id-1 label.sk-toggleable__label-arrow:before {content: \"▸\";float: left;margin-right: 0.25em;color: #696969;}#sk-container-id-1 label.sk-toggleable__label-arrow:hover:before {color: black;}#sk-container-id-1 div.sk-estimator:hover label.sk-toggleable__label-arrow:before {color: black;}#sk-container-id-1 div.sk-toggleable__content {max-height: 0;max-width: 0;overflow: hidden;text-align: left;background-color: #f0f8ff;}#sk-container-id-1 div.sk-toggleable__content pre {margin: 0.2em;color: black;border-radius: 0.25em;background-color: #f0f8ff;}#sk-container-id-1 input.sk-toggleable__control:checked~div.sk-toggleable__content {max-height: 200px;max-width: 100%;overflow: auto;}#sk-container-id-1 input.sk-toggleable__control:checked~label.sk-toggleable__label-arrow:before {content: \"▾\";}#sk-container-id-1 div.sk-estimator input.sk-toggleable__control:checked~label.sk-toggleable__label {background-color: #d4ebff;}#sk-container-id-1 div.sk-label input.sk-toggleable__control:checked~label.sk-toggleable__label {background-color: #d4ebff;}#sk-container-id-1 input.sk-hidden--visually {border: 0;clip: rect(1px 1px 1px 1px);clip: rect(1px, 1px, 1px, 1px);height: 1px;margin: -1px;overflow: hidden;padding: 0;position: absolute;width: 1px;}#sk-container-id-1 div.sk-estimator {font-family: monospace;background-color: #f0f8ff;border: 1px dotted black;border-radius: 0.25em;box-sizing: border-box;margin-bottom: 0.5em;}#sk-container-id-1 div.sk-estimator:hover {background-color: #d4ebff;}#sk-container-id-1 div.sk-parallel-item::after {content: \"\";width: 100%;border-bottom: 1px solid gray;flex-grow: 1;}#sk-container-id-1 div.sk-label:hover label.sk-toggleable__label {background-color: #d4ebff;}#sk-container-id-1 div.sk-serial::before {content: \"\";position: absolute;border-left: 1px solid gray;box-sizing: border-box;top: 0;bottom: 0;left: 50%;z-index: 0;}#sk-container-id-1 div.sk-serial {display: flex;flex-direction: column;align-items: center;background-color: white;padding-right: 0.2em;padding-left: 0.2em;position: relative;}#sk-container-id-1 div.sk-item {position: relative;z-index: 1;}#sk-container-id-1 div.sk-parallel {display: flex;align-items: stretch;justify-content: center;background-color: white;position: relative;}#sk-container-id-1 div.sk-item::before, #sk-container-id-1 div.sk-parallel-item::before {content: \"\";position: absolute;border-left: 1px solid gray;box-sizing: border-box;top: 0;bottom: 0;left: 50%;z-index: -1;}#sk-container-id-1 div.sk-parallel-item {display: flex;flex-direction: column;z-index: 1;position: relative;background-color: white;}#sk-container-id-1 div.sk-parallel-item:first-child::after {align-self: flex-end;width: 50%;}#sk-container-id-1 div.sk-parallel-item:last-child::after {align-self: flex-start;width: 50%;}#sk-container-id-1 div.sk-parallel-item:only-child::after {width: 0;}#sk-container-id-1 div.sk-dashed-wrapped {border: 1px dashed gray;margin: 0 0.4em 0.5em 0.4em;box-sizing: border-box;padding-bottom: 0.4em;background-color: white;}#sk-container-id-1 div.sk-label label {font-family: monospace;font-weight: bold;display: inline-block;line-height: 1.2em;}#sk-container-id-1 div.sk-label-container {text-align: center;}#sk-container-id-1 div.sk-container {/* jupyter's `normalize.less` sets `[hidden] { display: none; }` but bootstrap.min.css set `[hidden] { display: none !important; }` so we also need the `!important` here to be able to override the default hidden behavior on the sphinx rendered scikit-learn.org. See: https://github.com/scikit-learn/scikit-learn/issues/21755 */display: inline-block !important;position: relative;}#sk-container-id-1 div.sk-text-repr-fallback {display: none;}</style><div id=\"sk-container-id-1\" class=\"sk-top-container\"><div class=\"sk-text-repr-fallback\"><pre>RandomForestClassifier(n_estimators=200, random_state=42)</pre><b>In a Jupyter environment, please rerun this cell to show the HTML representation or trust the notebook. <br />On GitHub, the HTML representation is unable to render, please try loading this page with nbviewer.org.</b></div><div class=\"sk-container\" hidden><div class=\"sk-item\"><div class=\"sk-estimator sk-toggleable\"><input class=\"sk-toggleable__control sk-hidden--visually\" id=\"sk-estimator-id-1\" type=\"checkbox\" checked><label for=\"sk-estimator-id-1\" class=\"sk-toggleable__label sk-toggleable__label-arrow\">RandomForestClassifier</label><div class=\"sk-toggleable__content\"><pre>RandomForestClassifier(n_estimators=200, random_state=42)</pre></div></div></div></div></div>"
      ],
      "text/plain": [
       "RandomForestClassifier(n_estimators=200, random_state=42)"
      ]
     },
     "execution_count": 12,
     "metadata": {},
     "output_type": "execute_result"
    }
   ],
   "source": [
    "# Train\n",
    "temp_model.fit(X_train_reg, y_train_temp)\n",
    "wind_model.fit(X_train_reg, y_train_wind)\n",
    "weather_model.fit(X_train_cls, y_train_cls)\n"
   ]
  },
  {
   "cell_type": "code",
   "execution_count": 13,
   "id": "5bb9853c",
   "metadata": {
    "id": "5bb9853c"
   },
   "outputs": [],
   "source": [
    "# Predictions\n",
    "temp_preds = temp_model.predict(X_test_reg)\n",
    "wind_preds = wind_model.predict(X_test_reg)\n",
    "weather_preds = weather_model.predict(X_test_cls)"
   ]
  },
  {
   "cell_type": "code",
   "execution_count": 14,
   "id": "d373a64e",
   "metadata": {
    "id": "d373a64e"
   },
   "outputs": [],
   "source": [
    "# Evaluation metrics\n",
    "rmse_temp = np.sqrt(mean_squared_error(y_test_temp, temp_preds))\n",
    "rmse_wind = np.sqrt(mean_squared_error(y_test_wind, wind_preds))\n",
    "weather_acc = accuracy_score(y_test_cls, weather_preds)\n"
   ]
  },
  {
   "cell_type": "code",
   "execution_count": 15,
   "id": "3EFeyxY8w4YN",
   "metadata": {
    "colab": {
     "base_uri": "https://localhost:8080/"
    },
    "id": "3EFeyxY8w4YN",
    "outputId": "246ca37e-bbbd-4fd4-ed10-9e432b78483e"
   },
   "outputs": [
    {
     "name": "stdout",
     "output_type": "stream",
     "text": [
      "Temperature RMSE: 3.5357876255687337\n",
      "Wind Speed RMSE: 2.4401978091693697\n",
      "Weather Description Accuracy: 0.3\n"
     ]
    }
   ],
   "source": [
    "print(\"Temperature RMSE:\",rmse_temp)\n",
    "print(\"Wind Speed RMSE:\", rmse_wind)\n",
    "print(\"Weather Description Accuracy:\",weather_acc)\n"
   ]
  },
  {
   "cell_type": "code",
   "execution_count": 16,
   "id": "ia7lgDn-0YZd",
   "metadata": {
    "colab": {
     "base_uri": "https://localhost:8080/"
    },
    "id": "ia7lgDn-0YZd",
    "outputId": "66e5b3e4-c3a6-4e63-e427-fcdb0de6d73f"
   },
   "outputs": [
    {
     "name": "stdout",
     "output_type": "stream",
     "text": [
      "Most likely: clear sky (41.5%)\n",
      "Next: scattered clouds (24.5%)\n",
      "Then: heavy intensity rain (11.5%)\n"
     ]
    }
   ],
   "source": [
    "# Sample input for demo (replace with user input in real usage)\n",
    "sample_input = pd.DataFrame([[0, 0, 40.71, -74.01]], columns=['City_encoded', 'Country_encoded', 'Latitude', 'Longitude'])\n",
    "probs = weather_model.predict_proba(sample_input)[0]\n",
    "#new york example\n",
    "\n",
    "\n",
    "# Get prediction probabilities\n",
    "probs = weather_model.predict_proba(sample_input)[0]\n",
    "\n",
    "# Get top 3 predictions\n",
    "top3_idx = np.argsort(probs)[-3:][::-1]\n",
    "top3_labels = le_weather.inverse_transform(top3_idx)\n",
    "top3_probs = probs[top3_idx]\n",
    "\n",
    "# Format output\n",
    "print(f\"Most likely: {top3_labels[0]} ({top3_probs[0] * 100:.1f}%)\")\n",
    "print(f\"Next: {top3_labels[1]} ({top3_probs[1] * 100:.1f}%)\")\n",
    "print(f\"Then: {top3_labels[2]} ({top3_probs[2] * 100:.1f}%)\")\n",
    "\n"
   ]
  },
  {
   "cell_type": "code",
   "execution_count": 74,
   "id": "Rcc3vwvR2Rq9",
   "metadata": {
    "colab": {
     "base_uri": "https://localhost:8080/"
    },
    "id": "Rcc3vwvR2Rq9",
    "outputId": "51bc291c-d3f8-4ebe-9a09-9dfbcdc65417"
   },
   "outputs": [
    {
     "data": {
      "text/plain": [
       "['model/encoders.pkl']"
      ]
     },
     "execution_count": 74,
     "metadata": {},
     "output_type": "execute_result"
    }
   ],
   "source": [
    "import joblib\n",
    "\n",
    "joblib.dump(temp_model, \"model/temp_model.pkl\")\n",
    "joblib.dump(wind_model, \"model/wind_model.pkl\")\n",
    "joblib.dump(weather_model, \"model/weather_model.pkl\")\n",
    "joblib.dump((le_city, le_country, le_weather), \"model/encoders.pkl\")\n"
   ]
  }
 ],
 "metadata": {
  "colab": {
   "provenance": []
  },
  "kernelspec": {
   "display_name": "Python 3 (ipykernel)",
   "language": "python",
   "name": "python3"
  },
  "language_info": {
   "codemirror_mode": {
    "name": "ipython",
    "version": 3
   },
   "file_extension": ".py",
   "mimetype": "text/x-python",
   "name": "python",
   "nbconvert_exporter": "python",
   "pygments_lexer": "ipython3",
   "version": "3.11.5"
  }
 },
 "nbformat": 4,
 "nbformat_minor": 5
}
